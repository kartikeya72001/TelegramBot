{
 "cells": [
  {
   "cell_type": "markdown",
   "metadata": {},
   "source": [
    "Done! Congratulations on your new bot. You will find it at t.me/KartikeyasBot. You can now add a description, about section and profile picture for your bot, see /help for a list of commands. By the way, when you've finished creating your cool bot, ping our Bot Support if you want a better username for it. Just make sure the bot is fully operational before you do this.\n",
    "\n",
    "Use this token to access the HTTP API:\n",
    "1105619011:AAFU7be4LldwuVsI1t0mMm_zsVSETT-Kou4\n",
    "\n",
    "Keep your token secure and store it safely, it can be used by anyone to control your bot.\n",
    "\n",
    "For a description of the Bot API, see this page: https://core.telegram.org/bots/api"
   ]
  },
  {
   "cell_type": "markdown",
   "metadata": {},
   "source": [
    "TO Initialise a virtual env, \n",
    "\n",
    "- virtualenv \"env name\"\n",
    "\n",
    "In the \"env name\" folder, Locate Scripts and run activate.bat\n",
    "\n",
    "This will start a virtual env\n",
    "\n",
    "Then install \n",
    "- pip install python-telegram-bot"
   ]
  },
  {
   "cell_type": "code",
   "execution_count": 1,
   "metadata": {},
   "outputs": [],
   "source": [
    "import os"
   ]
  },
  {
   "cell_type": "code",
   "execution_count": 2,
   "metadata": {},
   "outputs": [],
   "source": [
    "os.environ[\"GOOGLE_APPLICATION_CREDENTIALS\"] = \"client.json\""
   ]
  },
  {
   "cell_type": "code",
   "execution_count": 6,
   "metadata": {},
   "outputs": [],
   "source": [
    "import dialogflow"
   ]
  },
  {
   "cell_type": "code",
   "execution_count": 7,
   "metadata": {},
   "outputs": [],
   "source": [
    "dialogflow_session_client = dialogflow.SessionsClient()\n",
    "Project_ID = \"newsbot2-0-ilalgb\""
   ]
  },
  {
   "cell_type": "code",
   "execution_count": 11,
   "metadata": {},
   "outputs": [],
   "source": [
    "def detect_intent_from_text(text, session_id, language_code=\"en\"):\n",
    "    session = dialogflow_session_client.session_path(Project_ID,session_id)\n",
    "    text_input = dialogflow.types.TextInput(text = text, language_code = language_code)\n",
    "    query_input = dialogflow.types.QueryInput(text = text_input)\n",
    "    response = dialogflow_session_client.detect_intent(session = session, query_input=query_input)\n",
    "    return response.query_result"
   ]
  },
  {
   "cell_type": "code",
   "execution_count": 25,
   "metadata": {},
   "outputs": [],
   "source": [
    "response = detect_intent_from_text(\"Show me sports news from india in Hindi\",12345)"
   ]
  },
  {
   "cell_type": "code",
   "execution_count": 65,
   "metadata": {},
   "outputs": [
    {
     "data": {
      "text/plain": [
       "{'geo-country': 'India',\n",
       " 'language': values {\n",
       "   string_value: \"Hindi\"\n",
       " },\n",
       " 'topic': 'Sports'}"
      ]
     },
     "execution_count": 65,
     "metadata": {},
     "output_type": "execute_result"
    }
   ],
   "source": [
    "dict(response.parameters)"
   ]
  },
  {
   "cell_type": "code",
   "execution_count": 29,
   "metadata": {},
   "outputs": [
    {
     "data": {
      "text/plain": [
       "'get_news'"
      ]
     },
     "execution_count": 29,
     "metadata": {},
     "output_type": "execute_result"
    }
   ],
   "source": [
    "response.intent.display_name"
   ]
  },
  {
   "cell_type": "code",
   "execution_count": 48,
   "metadata": {},
   "outputs": [],
   "source": [
    "from gnewsclient import gnewsclient"
   ]
  },
  {
   "cell_type": "code",
   "execution_count": 49,
   "metadata": {},
   "outputs": [],
   "source": [
    "client = gnewsclient.NewsClient()"
   ]
  },
  {
   "cell_type": "code",
   "execution_count": 50,
   "metadata": {},
   "outputs": [
    {
     "data": {
      "text/plain": [
       "{'location': 'United States', 'language': 'english', 'topic': 'Top Stories'}"
      ]
     },
     "execution_count": 50,
     "metadata": {},
     "output_type": "execute_result"
    }
   ],
   "source": [
    "client.get_config()"
   ]
  },
  {
   "cell_type": "code",
   "execution_count": 51,
   "metadata": {},
   "outputs": [],
   "source": [
    "client.location = \"India\"\n",
    "client.language = \"Hindi\"\n",
    "client.topic = \"Sports\""
   ]
  },
  {
   "cell_type": "code",
   "execution_count": 52,
   "metadata": {},
   "outputs": [
    {
     "data": {
      "text/plain": [
       "{'location': 'India', 'language': 'Hindi', 'topic': 'Sports'}"
      ]
     },
     "execution_count": 52,
     "metadata": {},
     "output_type": "execute_result"
    }
   ],
   "source": [
    "client.get_config()"
   ]
  },
  {
   "cell_type": "code",
   "execution_count": 53,
   "metadata": {
    "collapsed": true,
    "jupyter": {
     "outputs_hidden": true
    }
   },
   "outputs": [
    {
     "data": {
      "text/plain": [
       "[{'title': 'PAK के पूर्व कप्तान ने माना- कोहली जैसा बनने में बाबर को लगेंगे इतने साल - आज तक',\n",
       "  'link': 'https://news.google.com/__i/rss/rd/articles/CBMidWh0dHBzOi8vYWFqdGFrLmludG9kYXkuaW4vc3BvcnRzL3N0b3J5L2JhYmFyLWF6YW0tY2FuLWJlY29tZS1hLWxlZ2VuZC1saWtlLWtvaGxpLXNheXMteW91bmlzLWtoYW4tdHNwby0xLTExOTk2NDMuaHRtbNIBc2h0dHBzOi8vYWFqdGFrLmludG9kYXkuaW4vbGl0ZS9zdG9yeS9iYWJhci1hemFtLWNhbi1iZWNvbWUtYS1sZWdlbmQtbGlrZS1rb2hsaS1zYXlzLXlvdW5pcy1raGFuLXRzcG8tMS0xMTk5NjQzLmh0bWw?oc=5',\n",
       "  'media': None},\n",
       " {'title': 'खाली स्टेडियम में भी हो सकता है IPL, सौरव गांगुली का टूर्नामेंट के भविष्य पर बड़ा बयान - अमर उजाला',\n",
       "  'link': 'https://news.google.com/__i/rss/rd/articles/CBMiggFodHRwczovL3d3dy5hbWFydWphbGEuY29tL2NyaWNrZXQvY3JpY2tldC1uZXdzL2JjY2ktaXMtd29ya2luZy1vbi1hbGwtcG9zc2libGUtb3B0aW9ucy10by1lbnN1cmUtaXBsLXRoaXMteWVhci1zYXlzLXNvdXJhdi1nYW5ndWx50gGGAWh0dHBzOi8vd3d3LmFtYXJ1amFsYS5jb20vYW1wL2NyaWNrZXQvY3JpY2tldC1uZXdzL2JjY2ktaXMtd29ya2luZy1vbi1hbGwtcG9zc2libGUtb3B0aW9ucy10by1lbnN1cmUtaXBsLXRoaXMteWVhci1zYXlzLXNvdXJhdi1nYW5ndWx5?oc=5',\n",
       "  'media': None},\n",
       " {'title': 'T20 वर्ल्ड कप पर फैसला नहीं, लेकिन आईसीसी मीटिंग से बीसीसीआई को हुआ बड़ा फायदा - Navbharat Times',\n",
       "  'link': 'https://news.google.com/__i/rss/rd/articles/CBMiwQFodHRwczovL25hdmJoYXJhdHRpbWVzLmluZGlhdGltZXMuY29tL3Nwb3J0cy9jcmlja2V0L2NyaWNrZXQtbmV3cy9pY2MtYm9hcmQtbWVldGluZy10MjAtd29ybGQtY3VwLWZhdGUtdG8tYmUtZGVjaWRlZC1uZXh0LW1vbnRoLWJjY2ktZ2V0cy1kZWMtZGVhZGxpbmUtZm9yLXRheC1leGVtcHRpb24vYXJ0aWNsZXNob3cvNzYzMTU3MzkuY21z0gHFAWh0dHBzOi8vbmF2YmhhcmF0dGltZXMuaW5kaWF0aW1lcy5jb20vc3BvcnRzL2NyaWNrZXQvY3JpY2tldC1uZXdzL2ljYy1ib2FyZC1tZWV0aW5nLXQyMC13b3JsZC1jdXAtZmF0ZS10by1iZS1kZWNpZGVkLW5leHQtbW9udGgtYmNjaS1nZXRzLWRlYy1kZWFkbGluZS1mb3ItdGF4LWV4ZW1wdGlvbi9hbXBfYXJ0aWNsZXNob3cvNzYzMTU3MzkuY21z?oc=5',\n",
       "  'media': None},\n",
       " {'title': 'सचिन तेंदुलकर ने शेयर किया इमोशनल पोस्ट, युवराज ने दिया ये जवाब - Sports - आज तक',\n",
       "  'link': 'https://news.google.com/__i/rss/rd/articles/CBMihAFodHRwczovL2FhanRhay5pbnRvZGF5LmluL2dhbGxlcnkvc2FjaGluLXRlbmR1bGthci15dXZyYWotc2luZ2gtcG9zdC10ZWFtLWluZGlhLXdvcmxkLWN1cC0yMDExLWhlcm8tbWFzdGVyLWJsYXN0ZXItdHNwby0xLTUxNDc2Lmh0bWzSAQA?oc=5',\n",
       "  'media': None},\n",
       " {'title': 'आईसीसी बैठक: क्रिकेट गेंद चमकाने के लिए लार की जगह क्या इस्तेमाल करेंगे खिलाड़ी? - BBC हिंदी',\n",
       "  'link': 'https://news.google.com/__i/rss/rd/articles/CBMiKGh0dHBzOi8vd3d3LmJiYy5jb20vaGluZGkvc3BvcnQtNTI5ODkzMjfSASxodHRwczovL3d3dy5iYmMuY29tL2hpbmRpL2FtcC9zcG9ydC01Mjk4OTMyNw?oc=5',\n",
       "  'media': None},\n",
       " {'title': 'विंडीज के कप्तान की दो टूक- हम बलि का बकरा नहीं, स्थिति सामान्य करने की कोशिश कर रहे हैं - आज तक',\n",
       "  'link': 'https://news.google.com/__i/rss/rd/articles/CBMiggFodHRwczovL2FhanRhay5pbnRvZGF5LmluL3Nwb3J0cy9zdG9yeS93ZS1hcmUtbm90LWd1aW5lYS1waWdzLXdlLWFyZS1tYWtpbmctYW4tZWZmb3J0LWZvci1ub3JtYWxjeS1zYXlzLWhvbGRlci10c3BvLTEtMTE5OTcyMS5odG1s0gGAAWh0dHBzOi8vYWFqdGFrLmludG9kYXkuaW4vbGl0ZS9zdG9yeS93ZS1hcmUtbm90LWd1aW5lYS1waWdzLXdlLWFyZS1tYWtpbmctYW4tZWZmb3J0LWZvci1ub3JtYWxjeS1zYXlzLWhvbGRlci10c3BvLTEtMTE5OTcyMS5odG1s?oc=5',\n",
       "  'media': None},\n",
       " {'title': 'ससुराल में लॉकडाउन है टीम इंडिया का ये बॉलर, फिटनेस के लिए कर रहा कड़ी मेहनत - Sports - आज तक',\n",
       "  'link': 'https://news.google.com/__i/rss/rd/articles/CBMieWh0dHBzOi8vYWFqdGFrLmludG9kYXkuaW4vZ2FsbGVyeS91bWVzaC15YWRhdi10ZWFtLWluZGlhLWZhc3QtYm93bGVyLWJjY2ktaXBsLWNvcm9uYXZpcnVzLXQyMC13b3JsZC1jdXAtdHNwby0xLTUxNDgzLmh0bWzSAQA?oc=5',\n",
       "  'media': None},\n",
       " {'title': 'वेंकटेश प्रसाद ने बताया, सौरव और विराट की कप्तानी में क्या है फर्क - Hindustan',\n",
       "  'link': 'https://news.google.com/__i/rss/rd/articles/CBMitQFodHRwczovL3d3dy5saXZlaGluZHVzdGFuLmNvbS9jcmlja2V0L3N0b3J5LXNvdXJhdi1oYXJkbHktc2hvd2VkLWVtb3Rpb25zLWFuZC12aXJhdC1hZ2dyZXNzaW9uLWlzLWNvbnRyb2xsZWQtc2F5cy12ZW5rYXRlc2gtcHJhc2FkLW9uLWdhbmd1bHktYW5kLWtvaGxpLWNhcHRhaW5jeS1zdHlsZXMtMzI3MzQ5Ny5odG1s0gG3AWh0dHBzOi8vbS5saXZlaGluZHVzdGFuLmNvbS9jcmlja2V0L3N0b3J5LXNvdXJhdi1oYXJkbHktc2hvd2VkLWVtb3Rpb25zLWFuZC12aXJhdC1hZ2dyZXNzaW9uLWlzLWNvbnRyb2xsZWQtc2F5cy12ZW5rYXRlc2gtcHJhc2FkLW9uLWdhbmd1bHktYW5kLWtvaGxpLWNhcHRhaW5jeS1zdHlsZXMtMzI3MzQ5Ny5hbXAuaHRtbA?oc=5',\n",
       "  'media': None},\n",
       " {'title': 'खेल में रंगभेद/ सैमी के समर्थन में क्रिस गेल, कहा- हक की लड़ाई कभी भी शुरू हो सकती है; ब्रावो बोले- हम युद्ध नहीं, बराबरी चाहते हैं - Dainik Bhaskar',\n",
       "  'link': 'https://news.google.com/__i/rss/rd/articles/CBMipwFodHRwczovL3d3dy5iaGFza2FyLmNvbS9zcG9ydHMvY3JpY2tldC9uZXdzL2NocmlzLWdheWxlLXN1cHBvcnQtb2YtZGFycmVuLXNhbW15LWluLXJhY2lzbS1pbi1jcmlja2V0LWlzaGFudC1zaGFybWEtc2F5LWthbHUtdG8tc2FtbXktaW4taXBsLW5ld3MtdXBkYXRlcy0xMjczOTQ3NTkuaHRtbNIBqwFodHRwczovL3d3dy5iaGFza2FyLmNvbS9hbXAvc3BvcnRzL2NyaWNrZXQvbmV3cy9jaHJpcy1nYXlsZS1zdXBwb3J0LW9mLWRhcnJlbi1zYW1teS1pbi1yYWNpc20taW4tY3JpY2tldC1pc2hhbnQtc2hhcm1hLXNheS1rYWx1LXRvLXNhbW15LWluLWlwbC1uZXdzLXVwZGF0ZXMtMTI3Mzk0NzU5Lmh0bWw?oc=5',\n",
       "  'media': None},\n",
       " {'title': 'राहुल द्रविड़ बोले- इन दो खिलाड़ियों की वजह से भारतीय टीम को ऑस्ट्रेलिया दौरे पर होगी परेशानी - दैनिक जागरण',\n",
       "  'link': 'https://news.google.com/__i/rss/rd/articles/CBMinAFodHRwczovL3d3dy5qYWdyYW4uY29tL2NyaWNrZXQvYXBuaS1iYWF0LXJhaHVsLWRyYXZpZC1zYXlzLXRlYW0taW5kaWEtdG8tZmFjZS1zdGlmZi1jaGFsbGVuZ2UtaW4tYXVzdHJhbGlhLWR1ZS10by1zdGV2ZS1zbWl0aC1hbmQtZGF2aWQtd2FybmVyLTIwMzc4MDM3Lmh0bWzSAZ8BaHR0cHM6Ly9tLmphZ3Jhbi5jb20vbGl0ZS9jcmlja2V0L2FwbmktYmFhdC1yYWh1bC1kcmF2aWQtc2F5cy10ZWFtLWluZGlhLXRvLWZhY2Utc3RpZmYtY2hhbGxlbmdlLWluLWF1c3RyYWxpYS1kdWUtdG8tc3RldmUtc21pdGgtYW5kLWRhdmlkLXdhcm5lci0yMDM3ODAzNy5odG1s?oc=5',\n",
       "  'media': None}]"
      ]
     },
     "execution_count": 53,
     "metadata": {},
     "output_type": "execute_result"
    }
   ],
   "source": [
    "client.get_news()"
   ]
  },
  {
   "cell_type": "code",
   "execution_count": null,
   "metadata": {},
   "outputs": [],
   "source": []
  }
 ],
 "metadata": {
  "kernelspec": {
   "display_name": "Python 3",
   "language": "python",
   "name": "python3"
  },
  "language_info": {
   "codemirror_mode": {
    "name": "ipython",
    "version": 3
   },
   "file_extension": ".py",
   "mimetype": "text/x-python",
   "name": "python",
   "nbconvert_exporter": "python",
   "pygments_lexer": "ipython3",
   "version": "3.7.6"
  }
 },
 "nbformat": 4,
 "nbformat_minor": 4
}
